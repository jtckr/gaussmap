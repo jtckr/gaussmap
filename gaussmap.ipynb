{
 "cells": [
  {
   "cell_type": "markdown",
   "id": "afb676c6",
   "metadata": {},
   "source": [
    "# Gauss Map Visualization\n",
    "\n",
    "This notebook walks through the process of generating a visualization of the Gauss map for an arbitrary parameterized surface in $\\mathbb{R}^3$. This code was created from knowledge gained from my Differential Geometry class that used *Differential Geometry of Curves & Surfaces* by Manfredo do Carmo as a textbook [[1]](#REFERENCES).\n",
    "\n",
    "A [Gauss Map](https://en.wikipedia.org/wiki/Gauss_Map) is a map from a surface in $\\mathbb{R}^n$ to $S^{n-1} \\subset \\mathbb{R}^n$ where $S^{n-1}$ is the unit [sphere](https://en.wikipedia.org/wiki/N-sphere) of dimension $n-1$ [embedded](https://en.wikipedia.org/wiki/Embedding) in $\\mathbb{R}^n$. This map sends points on the surface to points on the unit sphere corresponding to the unit vector normal to the surface at that point. This can be visualized as generating the normal vectors of the surface at various points and then shifting the \"tail\" of these vectors to the origin. That is exactly what this animation does."
   ]
  },
  {
   "cell_type": "markdown",
   "id": "8870c705",
   "metadata": {},
   "source": [
    "## Libraries Used\n",
    "We start by importing the various libraries that we will use. [Manim](https://www.manim.community/) is a math animation library originally written by Grant Sanderson of [3Blue1Brown](https://www.3blue1brown.com/) with a fork now maintained by the community [[2]](#REFERENCES). It allows us to setup a scene of objects, animate them, and render the output to a video.\n",
    "\n",
    "Other important libraries used are [SymPy](https://www.sympy.org/) to calculate the partial derivatives and [vector product](https://en.wikipedia.org/wiki/Cross_product \"cross product\") used in the normal vector calculation, and [NumPy](https://numpy.org/) to numerically evaluate the normal vector at each point."
   ]
  },
  {
   "cell_type": "code",
   "execution_count": 1,
   "id": "1d6955b5",
   "metadata": {},
   "outputs": [
    {
     "data": {
      "text/html": [
       "<pre style=\"white-space:pre;overflow-x:auto;line-height:normal;font-family:Menlo,'DejaVu Sans Mono',consolas,'Courier New',monospace\">Manim Community <span style=\"color: #008000; text-decoration-color: #008000\">v0.18.0</span>\n",
       "\n",
       "</pre>\n"
      ],
      "text/plain": [
       "Manim Community \u001b[32mv0.\u001b[0m\u001b[32m18.0\u001b[0m\n",
       "\n"
      ]
     },
     "metadata": {},
     "output_type": "display_data"
    }
   ],
   "source": [
    "from typing import Tuple\n",
    "import sys\n",
    "\n",
    "import sympy as sym\n",
    "from sympy.core.sympify import SympifyError\n",
    "\n",
    "from gaussmap import scene\n",
    "from gaussmap.typing import Expression, Range\n",
    "from gaussmap.utils import parameterization_input"
   ]
  },
  {
   "cell_type": "code",
   "execution_count": 2,
   "id": "19776e51-86ea-4a43-8962-4f100bbc43b3",
   "metadata": {},
   "outputs": [],
   "source": [
    "def _get_function() -> Tuple[Expression, Range, Range]:\n",
    "    u_range = (float(sym.sympify(u_min)), float(sym.sympify(u_max)))\n",
    "    v_range = (float(sym.sympify(v_min)), float(sym.sympify(v_max)))\n",
    "    expression = (sym.sympify(x), sym.sympify(y), sym.sympify(z))\n",
    "    return expression, u_range, v_range"
   ]
  },
  {
   "cell_type": "markdown",
   "id": "71d8b8bf",
   "metadata": {},
   "source": [
    "### Scene\n",
    "\n",
    "This scene is where all the objects are constructed and the animations are generated. Manim calls the construct function when rendering the scene so you can think of the construct method as the main method of this script."
   ]
  },
  {
   "cell_type": "code",
   "execution_count": 3,
   "id": "bc77c137",
   "metadata": {},
   "outputs": [],
   "source": [
    "class CustomScene(scene.GaussMapScene):\n",
    "    \"\"\"A custom scene that renders the Gauss map transformation from a\n",
    "    parameterization provided by a user.\n",
    "    \"\"\"\n",
    "\n",
    "    def __init__(self, *args, **kwargs):\n",
    "        try:\n",
    "            expression, u_range, v_range = _get_function()\n",
    "        except (TypeError, ValueError, SyntaxError, AttributeError, SympifyError) as e:\n",
    "            sys.exit(f\"Unable to parse parameterization {e}\")\n",
    "\n",
    "        print(\"Generate a Gauss map manimation for the following\" \" parameterization?\")\n",
    "        print(f\"x: {expression}\")\n",
    "        print(f\"u: {u_range}, v: {v_range}\")\n",
    "\n",
    "        super().__init__(expression, u_range, v_range, *args, **kwargs)"
   ]
  },
  {
   "cell_type": "markdown",
   "id": "c336973c",
   "metadata": {},
   "source": [
    "Let $U \\subset \\mathbb{R}^2$ be open and let $S \\subset \\mathbb{R}^3$ be a surface. $S$ is called a regular surface if for each $p \\in S$ there exists a neighborhood $V$ in $\\mathbb{R}^3$ and a map $\\mathbf{x}: U \\to V \\cap S$ such that $\\mathbf{x}$ is [differentiable](https://en.wikipedia.org/wiki/Differentiable_function), $\\mathbf{x}$ is a [homeomorphism](https://en.wikipedia.org/wiki/Homeomorphism), and for each $(u, v) \\in U$, the [differential](https://en.wikipedia.org/wiki/Pushforward_(differential) \"pushforward\") $d\\mathbf{x}_{(u, v)}: \\mathbb{R}^2 \\to \\mathbb{R}^3$ is [one-to-one](https://en.wikipedia.org/wiki/One-to-one_function \"injective\"). The map $\\mathbf{x}$ is called a parameterization. See Def. 1 of Sec. 2-2 in [[1, pp. 54-55]](#REFERENCES).\n",
    "\n",
    "Let $V \\subset S$ be an open set in $S$ and $N: V \\to \\mathbb{R}^3$ such that for each point $q \\in V$, $N(q)$ is a unit normal vector at $q$. $N$ is a differentiable field of unit normal vectors on $V$ if this map is differentiable.\n",
    "\n",
    "A regular surface $S \\subset \\mathbb{R}^3$ is orientable if there exists a differentiable field of unit normal vectors $N: S \\to \\mathbb{R}^3$ on the whole surface, $S$. See [[1, pp. 137-138]](#REFERENCES).\n",
    "\n",
    "This means that for any two parameterizations, $\\mathbf{x}: U \\to S$ and $\\mathbf{\\tilde{x}}: \\tilde{U} \\to S$ and for all $(u, v) \\in U$ and $(\\tilde{u}, \\tilde{v}) \\in \\tilde{U}$ such that $\\mathbf{x}(u, v) = \\mathbf{\\tilde{x}}(\\tilde{u}, \\tilde{v})$ then both\n",
    "\n",
    "$$N(u, v) =\\frac{\\mathbf{x}_u(u, v) \\times \\mathbf{x}_v(u, v)}{||\\mathbf{x}_u(u, v) \\times \\mathbf{x}_v(u, v)||}$$\n",
    "\n",
    "$$N(\\tilde{u}, \\tilde{v}) =\\frac{\\mathbf{\\tilde{x}}_{\\tilde{u}}(\\tilde{u}, \\tilde{v}) \\times \\mathbf{x}_{\\tilde{v}}(\\tilde{u}, \\tilde{v})}{||\\mathbf{x}_{\\tilde{u}}(\\tilde{u}, \\tilde{v}) \\times \\mathbf{x}_{\\tilde{v}}(\\tilde{u}, \\tilde{v})||}$$\n",
    "\n",
    "agree.\n",
    "\n",
    "\n",
    "Let $S \\subset \\mathbb{R}^3$ be a orientable surface with orientation $N$. The map $N: S \\to \\mathbb{R}^3$ takes the values of $N$ to the unit sphere $S^2$. This map $N: S \\to S^2$ is called the Gauss map of $S$. See Def. 1 of Sec. 3-2 in [[1, p. 138]](#REFERENCES)\n",
    "\n",
    "For our purposes we define our map as\n",
    "\n",
    "$$N =\\frac{\\mathbf{x}_u \\times \\mathbf{x}_v}{||\\mathbf{x}_u \\times \\mathbf{x}_v||}$$"
   ]
  },
  {
   "cell_type": "markdown",
   "id": "eef25b6a",
   "metadata": {},
   "source": [
    "## Rendering\n",
    "\n",
    "We use cell magic `%%manim` to run the Manim command-line utility from the Jupyter notebook. We pass in the scene name `CustomScene` to render it. We pass `-v WARNING` to remove unneccessary output and `-ql` to set the render quality to low so that it renders faster. Other options include `-qm` for medium, and `-qh` for high quality.\n",
    "\n",
    "Here we define the maximum and minimum values for the $u$ and $v$ coordinates and the parameterized functions in terms of $u$ and $v$. The partial derivative and normal vector output is shown as well as the rendered video. \n",
    "\n",
    "Please try your own functions some cool demos are found below."
   ]
  },
  {
   "cell_type": "markdown",
   "id": "14b8123d",
   "metadata": {},
   "source": [
    "### [Cone](https://mathworld.wolfram.com/Cone.html)"
   ]
  },
  {
   "cell_type": "code",
   "execution_count": null,
   "id": "06471dd6",
   "metadata": {},
   "outputs": [
    {
     "name": "stdout",
     "output_type": "stream",
     "text": [
      "Generate a Gauss map manimation for the following parameterization?\n",
      "x: (u*cos(v), u*sin(v), u)\n",
      "u: (0.01, 2.0), v: (0.0, 6.283185307179586)\n",
      "x = (u*cos(v), u*sin(v), u)\n",
      "x_u = Matrix([[cos(v)], [sin(v)], [1]])\n",
      "x_v = Matrix([[-u*sin(v)], [u*cos(v)], [0]])\n",
      "N = Matrix([[-u*cos(v)], [-u*sin(v)], [u*sin(v)**2 + u*cos(v)**2]])\n"
     ]
    },
    {
     "name": "stderr",
     "output_type": "stream",
     "text": [
      "Animation 3: FadeOut(OriginalSurface of 1024 submobjects):  33%|█████████████████████▋                                           | 5/15 [00:05<00:10,  1.08s/it]"
     ]
    }
   ],
   "source": [
    "%%manim -v WARNING -ql CustomScene\n",
    "\n",
    "# Change me!\n",
    "u_min = '0.01' # Remove singular point at (0, 0, 0)\n",
    "u_max = '2'\n",
    "v_min = '0'\n",
    "v_max = '2*pi'\n",
    "x = 'u*cos(v)'\n",
    "y = 'u*sin(v)'\n",
    "z = 'u'"
   ]
  },
  {
   "cell_type": "markdown",
   "id": "208fc148",
   "metadata": {},
   "source": [
    "### [One-Sheeted Hyperboloid](https://mathworld.wolfram.com/One-SheetedHyperboloid.html)"
   ]
  },
  {
   "cell_type": "code",
   "execution_count": 16,
   "id": "3be466b4",
   "metadata": {},
   "outputs": [
    {
     "name": "stdout",
     "output_type": "stream",
     "text": [
      "Generate a Gauss map manimation for the following parameterization?\n",
      "x: [cos(v)*cosh(u), sin(v)*cosh(u), sinh(u)]\n",
      "u: (-6.283185307179586, 6.283185307179586), v: (0.0, 6.283185307179586)\n",
      "x = (cos(v)*cosh(u), sin(v)*cosh(u), sinh(u))\n",
      "x_u = Matrix([[cos(v)*sinh(u)], [sin(v)*sinh(u)], [cosh(u)]])\n",
      "x_v = Matrix([[-sin(v)*cosh(u)], [cos(v)*cosh(u)], [0]])\n",
      "N = Matrix([[cos(v)*cosh(u)**2], [sin(v)*cosh(u)**2], [-sin(v)**2*sinh(u)*cosh(u) - cos(v)**2*sinh(u)*cosh(u)]])\n"
     ]
    },
    {
     "name": "stderr",
     "output_type": "stream",
     "text": [
      "                                                                                                                                                                \r"
     ]
    },
    {
     "data": {
      "text/html": [
       "<video src=\"media/jupyter/CustomScene@2024-01-16@19-12-34.mp4\" controls autoplay loop style=\"max-width: 60%;\"  >\n",
       "      Your browser does not support the <code>video</code> element.\n",
       "    </video>"
      ],
      "text/plain": [
       "<IPython.core.display.Video object>"
      ]
     },
     "metadata": {},
     "output_type": "display_data"
    }
   ],
   "source": [
    "%%manim -v WARNING -ql CustomScene\n",
    "\n",
    "# Change me!\n",
    "u_min = '-2*pi'\n",
    "u_max = '2*pi'\n",
    "v_min = '0'\n",
    "v_max = '2*pi'\n",
    "x = 'cosh(u)*cos(v)'\n",
    "y = 'cosh(u)*sin(v)'\n",
    "z = 'sinh(u)'"
   ]
  },
  {
   "cell_type": "markdown",
   "id": "c44b78d2",
   "metadata": {},
   "source": [
    "### [Catenoid](https://mathworld.wolfram.com/Catenoid.html)"
   ]
  },
  {
   "cell_type": "code",
   "execution_count": 17,
   "id": "8177037e",
   "metadata": {},
   "outputs": [
    {
     "name": "stdout",
     "output_type": "stream",
     "text": [
      "Generate a Gauss map manimation for the following parameterization?\n",
      "x: [2*cos(u)*cosh(v/2), 2*sin(u)*cosh(v/2), v]\n",
      "u: (-3.141592653589793, 3.141592653589793), v: (-2.0, 2.0)\n",
      "x = (2*cos(u)*cosh(v/2), 2*sin(u)*cosh(v/2), v)\n",
      "x_u = Matrix([[-2*sin(u)*cosh(v/2)], [2*cos(u)*cosh(v/2)], [0]])\n",
      "x_v = Matrix([[cos(u)*sinh(v/2)], [sin(u)*sinh(v/2)], [1]])\n",
      "N = Matrix([[2*cos(u)*cosh(v/2)], [2*sin(u)*cosh(v/2)], [-2*sin(u)**2*sinh(v/2)*cosh(v/2) - 2*cos(u)**2*sinh(v/2)*cosh(v/2)]])\n"
     ]
    },
    {
     "name": "stderr",
     "output_type": "stream",
     "text": [
      "                                                                                                                                                                \r"
     ]
    },
    {
     "data": {
      "text/html": [
       "<video src=\"media/jupyter/CustomScene@2024-01-16@19-17-57.mp4\" controls autoplay loop style=\"max-width: 60%;\"  >\n",
       "      Your browser does not support the <code>video</code> element.\n",
       "    </video>"
      ],
      "text/plain": [
       "<IPython.core.display.Video object>"
      ]
     },
     "metadata": {},
     "output_type": "display_data"
    }
   ],
   "source": [
    "%%manim -v WARNING -ql CustomScene\n",
    "\n",
    "# Change me!\n",
    "u_min = '-pi'\n",
    "u_max = 'pi'\n",
    "v_min = '-2'\n",
    "v_max = '2'\n",
    "x = '2*cosh((1/2)*v)*cos(u)'\n",
    "y = '2*cosh((1/2)*v)*sin(u)'\n",
    "z = 'v'"
   ]
  },
  {
   "cell_type": "markdown",
   "id": "f72eda09",
   "metadata": {},
   "source": [
    "### [Ring Torus](https://mathworld.wolfram.com/RingTorus.html)"
   ]
  },
  {
   "cell_type": "code",
   "execution_count": 18,
   "id": "644db551",
   "metadata": {},
   "outputs": [
    {
     "name": "stdout",
     "output_type": "stream",
     "text": [
      "Generate a Gauss map manimation for the following parameterization?\n",
      "x: [(cos(u) + 3)*cos(v), (cos(u) + 3)*sin(v), sin(u)]\n",
      "u: (0.0, 6.283185307179586), v: (0.0, 6.283185307179586)\n",
      "x = ((cos(u) + 3)*cos(v), (cos(u) + 3)*sin(v), sin(u))\n",
      "x_u = Matrix([[-sin(u)*cos(v)], [-sin(u)*sin(v)], [cos(u)]])\n",
      "x_v = Matrix([[-(cos(u) + 3)*sin(v)], [(cos(u) + 3)*cos(v)], [0]])\n",
      "N = Matrix([[(cos(u) + 3)*cos(u)*cos(v)], [(cos(u) + 3)*sin(v)*cos(u)], [(cos(u) + 3)*sin(u)*sin(v)**2 + (cos(u) + 3)*sin(u)*cos(v)**2]])\n"
     ]
    },
    {
     "name": "stderr",
     "output_type": "stream",
     "text": [
      "                                                                                                                                                                \r"
     ]
    },
    {
     "data": {
      "text/html": [
       "<video src=\"media/jupyter/CustomScene@2024-01-16@19-23-23.mp4\" controls autoplay loop style=\"max-width: 60%;\"  >\n",
       "      Your browser does not support the <code>video</code> element.\n",
       "    </video>"
      ],
      "text/plain": [
       "<IPython.core.display.Video object>"
      ]
     },
     "metadata": {},
     "output_type": "display_data"
    }
   ],
   "source": [
    "%%manim -v WARNING -ql CustomScene\n",
    "\n",
    "# R = 3, r = 1\n",
    "\n",
    "# Change me!\n",
    "u_min = '0'\n",
    "u_max = '2*pi'\n",
    "v_min = '0'\n",
    "v_max = '2*pi'\n",
    "x = '(3 + 1*cos(u))*cos(v)'\n",
    "y = '(3 + 1*cos(u))*sin(v)'\n",
    "z = '1*sin(u)'"
   ]
  },
  {
   "cell_type": "markdown",
   "id": "d0b1f9db",
   "metadata": {},
   "source": [
    "### [Paraboloid](https://mathworld.wolfram.com/Paraboloid.html)"
   ]
  },
  {
   "cell_type": "code",
   "execution_count": 19,
   "id": "cbbe2531",
   "metadata": {},
   "outputs": [
    {
     "name": "stdout",
     "output_type": "stream",
     "text": [
      "Generate a Gauss map manimation for the following parameterization?\n",
      "x: [u*cos(v), u*sin(v), -u**2]\n",
      "u: (0.01, 2.0), v: (0.0, 6.283185307179586)\n",
      "x = (u*cos(v), u*sin(v), -u**2)\n",
      "x_u = Matrix([[cos(v)], [sin(v)], [-2*u]])\n",
      "x_v = Matrix([[-u*sin(v)], [u*cos(v)], [0]])\n",
      "N = Matrix([[2*u**2*cos(v)], [2*u**2*sin(v)], [u*sin(v)**2 + u*cos(v)**2]])\n"
     ]
    },
    {
     "name": "stderr",
     "output_type": "stream",
     "text": [
      "                                                                                                                                                                \r"
     ]
    },
    {
     "data": {
      "text/html": [
       "<video src=\"media/jupyter/CustomScene@2024-01-16@19-33-31.mp4\" controls autoplay loop style=\"max-width: 60%;\"  >\n",
       "      Your browser does not support the <code>video</code> element.\n",
       "    </video>"
      ],
      "text/plain": [
       "<IPython.core.display.Video object>"
      ]
     },
     "metadata": {},
     "output_type": "display_data"
    }
   ],
   "source": [
    "%%manim -v WARNING -ql CustomScene\n",
    "\n",
    "# Change me!\n",
    "u_min = '0.01' # Issues with infinity\n",
    "u_max = '2'\n",
    "v_min = '0'\n",
    "v_max = '2*pi'\n",
    "x = 'u*cos(v)'\n",
    "y = 'u*sin(v)'\n",
    "z = '-u^2'"
   ]
  },
  {
   "cell_type": "markdown",
   "id": "598655d9",
   "metadata": {},
   "source": [
    "### [Hyperbolic Paraboloid](https://mathworld.wolfram.com/HyperbolicParaboloid.html)"
   ]
  },
  {
   "cell_type": "code",
   "execution_count": 20,
   "id": "c3ec86f8",
   "metadata": {},
   "outputs": [
    {
     "name": "stdout",
     "output_type": "stream",
     "text": [
      "Generate a Gauss map manimation for the following parameterization?\n",
      "x: [u, v, -u**2 + v**2]\n",
      "u: (-2.0, 2.0), v: (-2.0, 2.0)\n",
      "x = (u, v, -u**2 + v**2)\n",
      "x_u = Matrix([[1], [0], [-2*u]])\n",
      "x_v = Matrix([[0], [1], [2*v]])\n",
      "N = Matrix([[2*u], [-2*v], [1]])\n"
     ]
    },
    {
     "name": "stderr",
     "output_type": "stream",
     "text": [
      "                                                                                                                                                                \r"
     ]
    },
    {
     "data": {
      "text/html": [
       "<video src=\"media/jupyter/CustomScene@2024-01-16@19-38-41.mp4\" controls autoplay loop style=\"max-width: 60%;\"  >\n",
       "      Your browser does not support the <code>video</code> element.\n",
       "    </video>"
      ],
      "text/plain": [
       "<IPython.core.display.Video object>"
      ]
     },
     "metadata": {},
     "output_type": "display_data"
    }
   ],
   "source": [
    "%%manim -v WARNING -ql CustomScene\n",
    "\n",
    "# Change me!\n",
    "u_min = '-2'\n",
    "u_max = '2'\n",
    "v_min = '-2'\n",
    "v_max = '2'\n",
    "x = 'u'\n",
    "y = 'v'\n",
    "z = 'v^2-u^2'"
   ]
  },
  {
   "cell_type": "markdown",
   "id": "9e3f3f80",
   "metadata": {},
   "source": [
    "### [Monkey Saddle](https://mathworld.wolfram.com/MonkeySaddle.html)"
   ]
  },
  {
   "cell_type": "code",
   "execution_count": 21,
   "id": "0e67f4ca",
   "metadata": {},
   "outputs": [
    {
     "name": "stdout",
     "output_type": "stream",
     "text": [
      "Generate a Gauss map manimation for the following parameterization?\n",
      "x: [u, v, u**3 - 3*u*v**2]\n",
      "u: (-3.0, 3.0), v: (-3.0, 3.0)\n",
      "x = (u, v, u**3 - 3*u*v**2)\n",
      "x_u = Matrix([[1], [0], [3*u**2 - 3*v**2]])\n",
      "x_v = Matrix([[0], [1], [-6*u*v]])\n",
      "N = Matrix([[-3*u**2 + 3*v**2], [6*u*v], [1]])\n"
     ]
    },
    {
     "name": "stderr",
     "output_type": "stream",
     "text": [
      "                                                                                                                                                                \r"
     ]
    },
    {
     "data": {
      "text/html": [
       "<video src=\"media/jupyter/CustomScene@2024-01-16@19-45-31.mp4\" controls autoplay loop style=\"max-width: 60%;\"  >\n",
       "      Your browser does not support the <code>video</code> element.\n",
       "    </video>"
      ],
      "text/plain": [
       "<IPython.core.display.Video object>"
      ]
     },
     "metadata": {},
     "output_type": "display_data"
    }
   ],
   "source": [
    "%%manim -v WARNING -ql CustomScene\n",
    "\n",
    "# Change me!\n",
    "u_min = '-3'\n",
    "u_max = '3'\n",
    "v_min = '-3'\n",
    "v_max = '3'\n",
    "x = 'u'\n",
    "y = 'v'\n",
    "z = 'u^3-3*v^2*u'"
   ]
  },
  {
   "cell_type": "markdown",
   "id": "12f586b3",
   "metadata": {},
   "source": [
    "## REFERENCES\n",
    "\n",
    "[1] M. P. DO CARMO, *Differential Geometry of Curves and Surfaces*, 2nd ed., Dover, Mineola, NY, 2016.\n",
    "\n",
    "[2] MANIM COMMUNITY DEVELOPERS, *Manim software*, 2023, https://www.manim.community (accessed 2024/01/16). Version 0.18.0."
   ]
  }
 ],
 "metadata": {
  "kernelspec": {
   "display_name": "Python 3 (ipykernel)",
   "language": "python",
   "name": "python3"
  },
  "language_info": {
   "codemirror_mode": {
    "name": "ipython",
    "version": 3
   },
   "file_extension": ".py",
   "mimetype": "text/x-python",
   "name": "python",
   "nbconvert_exporter": "python",
   "pygments_lexer": "ipython3",
   "version": "3.12.1"
  }
 },
 "nbformat": 4,
 "nbformat_minor": 5
}
